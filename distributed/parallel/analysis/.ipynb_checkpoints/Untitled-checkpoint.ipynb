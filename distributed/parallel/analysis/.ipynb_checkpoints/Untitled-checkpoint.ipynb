{
 "cells": [
  {
   "cell_type": "code",
   "execution_count": 2,
   "metadata": {},
   "outputs": [
    {
     "name": "stdout",
     "output_type": "stream",
     "text": [
      "['chunk32', 'chunk28', 'chunk8', 'chunk5', 'chunk17', 'chunk3', 'chunk14', 'chunk21', 'chunk31', 'chunk23', 'chunk16', 'chunk4', 'chunk2', 'chunk27', 'chunk30', 'chunk25', 'chunk22', 'chunk13', 'chunk11', 'chunk26', 'chunk19', 'chunk6', 'chunk18', 'chunk24', 'chunk10', 'chunk29', 'chunk33', 'chunk15', 'chunk7', 'chunk20', 'chunk12', 'chunk9']\n"
     ]
    }
   ],
   "source": [
    "#!/usr/bin/python3\n",
    "\n",
    "import os\n",
    "\n",
    "log_dir = \"../scripts/logs/1/32/worker/\"\n",
    "logs = os.listdir(log_dir)\n",
    "print(logs)\n",
    "\n",
    "COLOR_CODES = {\n",
    "    \"conn\": \"\",\n",
    "    \"chunk_req\": \"\",\n",
    "    \"chunk_resp\": \"\",\n",
    "    \"salt_gen\": \"\",\n",
    "    \"prev_salt_req\": \"\",\n",
    "    \"prev_salt_resp\": \"\",\n",
    "    \"salt_set\": \"\",\n",
    "    \"enc\": \"\",\n",
    "    \"cipher_write\": \"\",\n",
    "    \"signal_done\": \"\"\n",
    "}"
   ]
  },
  {
   "cell_type": "code",
   "execution_count": null,
   "metadata": {},
   "outputs": [],
   "source": [
    "import numpy as np\n",
    "from matplotlib import pyplot as plt\n",
    "\n",
    "ITERATIONS = 100\n",
    "\n",
    "def rm_outliers(iteration_log, mean, std, y_offset, ax):\n",
    "    outliers = list(filter(lambda el: el[1] >= mean + 3*std ,enumerate(iteration_log)))\n",
    "    if len(outliers) == 0:\n",
    "        return mean\n",
    "    ax.scatter([el[0] for el in outliers], [el[1] for el in outliers], c='r', s=50)\n",
    "    for outlier in outliers:\n",
    "        iteration_log[outlier[0]] = mean\n",
    "    \n",
    "    p = ax.plot(range(0, len(iteration_log)), iteration_log)\n",
    "    mean = np.mean(iteration_log)\n",
    "    std = np.std(iteration_log)\n",
    "    max_val = max(iteration_log)\n",
    "    min_val = min(iteration_log)\n",
    "    ax.hlines(mean, 0, ITERATIONS - 1, color=p[0].get_color())\n",
    "    ax.text(.87, .80 - y_offset, 'Mean: {:.5f} \\nSTD:   {:.5f} \\nMax:   {:.5f} \\nMin:    {:.5f}'.format(mean, std,max_val, min_val),  transform=ax.transAxes)\n",
    "    return rm_outliers(iteration_log, mean, std, y_offset + .2, ax)\n",
    "\n",
    "\n",
    "def get_mean(values):\n",
    "    fig, ax = plt.subplots(1, 1)\n",
    "    mean = np.mean(values)\n",
    "    std = np.std(values)\n",
    "\n",
    "    final_mean = rm_outliers(values, mean, std, .2, ax)\n",
    "    print('final mean: ', final_mean)\n",
    "    return final_mean"
   ]
  },
  {
   "cell_type": "code",
   "execution_count": 1,
   "metadata": {
    "pycharm": {
     "name": "#%%\n"
    }
   },
   "outputs": [
    {
     "ename": "NameError",
     "evalue": "name 'log_dir' is not defined",
     "output_type": "error",
     "traceback": [
      "\u001b[0;31m---------------------------------------------------------------------------\u001b[0m",
      "\u001b[0;31mNameError\u001b[0m                                 Traceback (most recent call last)",
      "\u001b[0;32m<ipython-input-1-e81c781c6081>\u001b[0m in \u001b[0;36m<module>\u001b[0;34m\u001b[0m\n\u001b[1;32m      7\u001b[0m \u001b[0;32mfor\u001b[0m \u001b[0mfile_size\u001b[0m \u001b[0;32min\u001b[0m \u001b[0mfile_sizes\u001b[0m\u001b[0;34m:\u001b[0m\u001b[0;34m\u001b[0m\u001b[0;34m\u001b[0m\u001b[0m\n\u001b[1;32m      8\u001b[0m     \u001b[0;32mfor\u001b[0m \u001b[0mchunk_size\u001b[0m \u001b[0;32min\u001b[0m \u001b[0mchunk_sizes\u001b[0m\u001b[0;34m:\u001b[0m\u001b[0;34m\u001b[0m\u001b[0;34m\u001b[0m\u001b[0m\n\u001b[0;32m----> 9\u001b[0;31m         \u001b[0mlog_file_path\u001b[0m \u001b[0;34m=\u001b[0m \u001b[0mlog_dir\u001b[0m \u001b[0;34m+\u001b[0m \u001b[0;34m\"/\"\u001b[0m \u001b[0;34m+\u001b[0m \u001b[0mstr\u001b[0m\u001b[0;34m(\u001b[0m\u001b[0mfile_size\u001b[0m\u001b[0;34m)\u001b[0m \u001b[0;34m+\u001b[0m \u001b[0;34m\"/\"\u001b[0m \u001b[0;34m+\u001b[0m \u001b[0mstr\u001b[0m\u001b[0;34m(\u001b[0m\u001b[0mchunk_size\u001b[0m\u001b[0;34m)\u001b[0m\u001b[0;34m\u001b[0m\u001b[0;34m\u001b[0m\u001b[0m\n\u001b[0m\u001b[1;32m     10\u001b[0m         \u001b[0;32mwith\u001b[0m \u001b[0mopen\u001b[0m\u001b[0;34m(\u001b[0m\u001b[0mlog_file_path\u001b[0m\u001b[0;34m,\u001b[0m \u001b[0;34m'r'\u001b[0m\u001b[0;34m)\u001b[0m \u001b[0;32mas\u001b[0m \u001b[0mlog_file\u001b[0m\u001b[0;34m:\u001b[0m\u001b[0;34m\u001b[0m\u001b[0;34m\u001b[0m\u001b[0m\n\u001b[1;32m     11\u001b[0m             \u001b[0mlogs\u001b[0m \u001b[0;34m=\u001b[0m \u001b[0mlog_file\u001b[0m\u001b[0;34m.\u001b[0m\u001b[0mread\u001b[0m\u001b[0;34m(\u001b[0m\u001b[0;34m)\u001b[0m\u001b[0;34m\u001b[0m\u001b[0;34m\u001b[0m\u001b[0m\n",
      "\u001b[0;31mNameError\u001b[0m: name 'log_dir' is not defined"
     ]
    }
   ],
   "source": [
    "import pandas as pd\n",
    "\n",
    "logs_dir = \"pwd/home/oussama/Workspace/research/dcbc/app/distributed/parallel/analysis/logs\"\n",
    "file_sizes = [1, 2]\n",
    "chunk_sizes = [32, 64, 128, 256, 512, 1024]\n",
    "\n",
    "for file_size in file_sizes:\n",
    "    for chunk_size in chunk_sizes:\n",
    "        log_file_path = logs_dir + \"/\" + str(file_size) + \"/\" + str(chunk_size)\n",
    "        with open(log_file_path, 'r') as log_file:\n",
    "            logs = log_file.read()\n",
    "            print([x.split(',') for x in logs])\n",
    "            #df = pd.DataFrame( [x.split(',') for x in logs])\n"
   ]
  }
 ],
 "metadata": {
  "kernelspec": {
   "display_name": "Python 3",
   "language": "python",
   "name": "python3"
  },
  "language_info": {
   "codemirror_mode": {
    "name": "ipython",
    "version": 3
   },
   "file_extension": ".py",
   "mimetype": "text/x-python",
   "name": "python",
   "nbconvert_exporter": "python",
   "pygments_lexer": "ipython3",
   "version": "3.8.5"
  }
 },
 "nbformat": 4,
 "nbformat_minor": 4
}
